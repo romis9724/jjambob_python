{
  "nbformat": 4,
  "nbformat_minor": 0,
  "metadata": {
    "colab": {
      "name": "school.ipynb의 사본",
      "provenance": [],
      "collapsed_sections": [],
      "authorship_tag": "ABX9TyP233VIR7Wk12dzqGQ6uPU0",
      "include_colab_link": true
    },
    "kernelspec": {
      "name": "python3",
      "display_name": "Python 3"
    }
  },
  "cells": [
    {
      "cell_type": "markdown",
      "metadata": {
        "id": "view-in-github",
        "colab_type": "text"
      },
      "source": [
        "<a href=\"https://colab.research.google.com/github/romis9724/jjambob_python/blob/master/school_ipynb%EC%9D%98_%EC%82%AC%EB%B3%B8.ipynb\" target=\"_parent\"><img src=\"https://colab.research.google.com/assets/colab-badge.svg\" alt=\"Open In Colab\"/></a>"
      ]
    },
    {
      "cell_type": "code",
      "metadata": {
        "id": "nrGXXkP8gWxE",
        "colab_type": "code",
        "colab": {}
      },
      "source": [
        "! pip install xmltodict"
      ],
      "execution_count": 0,
      "outputs": []
    },
    {
      "cell_type": "code",
      "metadata": {
        "id": "MxcIVJcQlp2a",
        "colab_type": "code",
        "colab": {}
      },
      "source": [
        "! pip install pymysql"
      ],
      "execution_count": 0,
      "outputs": []
    },
    {
      "cell_type": "code",
      "metadata": {
        "id": "seVhtXp8QkfV",
        "colab_type": "code",
        "colab": {}
      },
      "source": [
        "import requests\n",
        "import xmltodict\n",
        "import pymysql"
      ],
      "execution_count": 0,
      "outputs": []
    },
    {
      "cell_type": "markdown",
      "metadata": {
        "id": "Adas2UbL2H5V",
        "colab_type": "text"
      },
      "source": [
        "1. 학교 정보 수집\n"
      ]
    },
    {
      "cell_type": "code",
      "metadata": {
        "id": "XL-s0GHAdA92",
        "colab_type": "code",
        "colab": {}
      },
      "source": [
        "svyYr = '2020'\n",
        "serviceKey = ''\n",
        "\n",
        "url = 'http://openapi.academyinfo.go.kr/openapi/service/rest/BasicInformationService/getUniversityCode'\n",
        "parameters = {\"ServiceKey\":requests.utils.unquote(serviceKey), \"svyYr\":svyYr, \"numOfRows\": 999} "
      ],
      "execution_count": 0,
      "outputs": []
    },
    {
      "cell_type": "code",
      "metadata": {
        "id": "4wBYEc2uTIDO",
        "colab_type": "code",
        "colab": {}
      },
      "source": [
        "req = requests.get(url, params = parameters)\n",
        "xml_data = xmltodict.parse(req.text)"
      ],
      "execution_count": 0,
      "outputs": []
    },
    {
      "cell_type": "code",
      "metadata": {
        "id": "UyQA_snVjF_c",
        "colab_type": "code",
        "colab": {}
      },
      "source": [
        "schools = xml_data['response']['body']['items']['item']\n",
        "print(schools)"
      ],
      "execution_count": 0,
      "outputs": []
    },
    {
      "cell_type": "markdown",
      "metadata": {
        "id": "2HZiM-cB2XU-",
        "colab_type": "text"
      },
      "source": [
        "2. 수집 데이터 DB에 저장"
      ]
    },
    {
      "cell_type": "code",
      "metadata": {
        "id": "PcAX3dlYmwwk",
        "colab_type": "code",
        "colab": {}
      },
      "source": [
        "con = pymysql.connect(\n",
        "    host='',\n",
        "    user='',\n",
        "    password='',\n",
        "    db=''\n",
        ")\n",
        "\n",
        "try:\n",
        "  with con.cursor() as cursor:\n",
        "    sql = \"insert into school( sch_krn_nm, clgcp_div_cd, sch_div_cd, zn_cd, estb_div_cd, use_at, reg_dtm, upd_dtm) values (%s, %s, %s, %s, %s, 'Y', now(), now())\"\n",
        "\n",
        "    for school in schools:\n",
        "      cursor.execute(sql, (school['schlKrnNm'], school['clgcpDivCd'], school['schlDivCd'], school['znCd'], school['estbDivCd']))\n",
        "\n",
        "  con.commit()\n",
        "finally:\n",
        "  con.close()"
      ],
      "execution_count": 0,
      "outputs": []
    }
  ]
}